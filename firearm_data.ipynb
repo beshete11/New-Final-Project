{
 "cells": [
  {
   "cell_type": "markdown",
   "id": "8b084bac-3653-4370-94da-d3543c573799",
   "metadata": {},
   "source": [
    "# Firearm Data"
   ]
  },
  {
   "cell_type": "markdown",
   "id": "a73f606f-1051-4903-946b-a93858e57b43",
   "metadata": {},
   "source": [
    "First, I imported pandas and loaded the data from the csv file and checked to make sure that it imported correctly."
   ]
  },
  {
   "cell_type": "code",
   "execution_count": 2,
   "id": "2d9513cd-c00c-43fd-994e-fab8014beee2",
   "metadata": {},
   "outputs": [
    {
     "data": {
      "text/html": [
       "<div>\n",
       "<style scoped>\n",
       "    .dataframe tbody tr th:only-of-type {\n",
       "        vertical-align: middle;\n",
       "    }\n",
       "\n",
       "    .dataframe tbody tr th {\n",
       "        vertical-align: top;\n",
       "    }\n",
       "\n",
       "    .dataframe thead th {\n",
       "        text-align: right;\n",
       "    }\n",
       "</style>\n",
       "<table border=\"1\" class=\"dataframe\">\n",
       "  <thead>\n",
       "    <tr style=\"text-align: right;\">\n",
       "      <th></th>\n",
       "      <th>_id</th>\n",
       "      <th>address</th>\n",
       "      <th>total_count</th>\n",
       "      <th>other_count</th>\n",
       "      <th>pistol_count</th>\n",
       "      <th>revolver_count</th>\n",
       "      <th>rifle_count</th>\n",
       "      <th>shotgun_count</th>\n",
       "      <th>year</th>\n",
       "      <th>month</th>\n",
       "      <th>dow</th>\n",
       "      <th>neighborhood</th>\n",
       "      <th>council_district</th>\n",
       "      <th>ward</th>\n",
       "      <th>tract</th>\n",
       "      <th>public_works_division</th>\n",
       "      <th>police_zone</th>\n",
       "      <th>fire_zone</th>\n",
       "      <th>latitude</th>\n",
       "      <th>longitude</th>\n",
       "    </tr>\n",
       "  </thead>\n",
       "  <tbody>\n",
       "    <tr>\n",
       "      <th>0</th>\n",
       "      <td>1</td>\n",
       "      <td>1700 BLOCK ARLINGTON AVE PITTSBURGH, PA 15210</td>\n",
       "      <td>2</td>\n",
       "      <td>0</td>\n",
       "      <td>1</td>\n",
       "      <td>1</td>\n",
       "      <td>0</td>\n",
       "      <td>0</td>\n",
       "      <td>2015</td>\n",
       "      <td>1</td>\n",
       "      <td>0</td>\n",
       "      <td>Mount Oliver Borough</td>\n",
       "      <td>3.0</td>\n",
       "      <td>0.0</td>\n",
       "      <td>4.200317e+10</td>\n",
       "      <td>0.0</td>\n",
       "      <td>3</td>\n",
       "      <td>4-6</td>\n",
       "      <td>40.417619</td>\n",
       "      <td>-79.986436</td>\n",
       "    </tr>\n",
       "    <tr>\n",
       "      <th>1</th>\n",
       "      <td>2</td>\n",
       "      <td>BREVET WAY &amp; MINTON ST PITTSBURGH, PA 15204</td>\n",
       "      <td>1</td>\n",
       "      <td>0</td>\n",
       "      <td>1</td>\n",
       "      <td>0</td>\n",
       "      <td>0</td>\n",
       "      <td>0</td>\n",
       "      <td>2015</td>\n",
       "      <td>1</td>\n",
       "      <td>0</td>\n",
       "      <td>Sheraden</td>\n",
       "      <td>2.0</td>\n",
       "      <td>20.0</td>\n",
       "      <td>4.200356e+10</td>\n",
       "      <td>5.0</td>\n",
       "      <td>6</td>\n",
       "      <td>1-16</td>\n",
       "      <td>40.456904</td>\n",
       "      <td>-80.052328</td>\n",
       "    </tr>\n",
       "    <tr>\n",
       "      <th>2</th>\n",
       "      <td>3</td>\n",
       "      <td>TERRACE ST &amp; WHITRIDGE ST PITTSBURGH, PA 15213</td>\n",
       "      <td>1</td>\n",
       "      <td>0</td>\n",
       "      <td>1</td>\n",
       "      <td>0</td>\n",
       "      <td>0</td>\n",
       "      <td>0</td>\n",
       "      <td>2015</td>\n",
       "      <td>1</td>\n",
       "      <td>0</td>\n",
       "      <td>Terrace Village</td>\n",
       "      <td>6.0</td>\n",
       "      <td>4.0</td>\n",
       "      <td>4.200305e+10</td>\n",
       "      <td>3.0</td>\n",
       "      <td>2</td>\n",
       "      <td>2-10</td>\n",
       "      <td>40.441185</td>\n",
       "      <td>-79.968527</td>\n",
       "    </tr>\n",
       "    <tr>\n",
       "      <th>3</th>\n",
       "      <td>4</td>\n",
       "      <td>3500 BLOCK GERBER AVE PITTSBURGH, PA 15212</td>\n",
       "      <td>1</td>\n",
       "      <td>0</td>\n",
       "      <td>1</td>\n",
       "      <td>0</td>\n",
       "      <td>0</td>\n",
       "      <td>0</td>\n",
       "      <td>2015</td>\n",
       "      <td>1</td>\n",
       "      <td>0</td>\n",
       "      <td>Brighton Heights</td>\n",
       "      <td>1.0</td>\n",
       "      <td>27.0</td>\n",
       "      <td>4.200327e+10</td>\n",
       "      <td>1.0</td>\n",
       "      <td>1</td>\n",
       "      <td>1-14</td>\n",
       "      <td>40.479530</td>\n",
       "      <td>-80.033477</td>\n",
       "    </tr>\n",
       "    <tr>\n",
       "      <th>4</th>\n",
       "      <td>5</td>\n",
       "      <td>7500 BLOCK KELLY ST PITTSBURGH, PA 15208</td>\n",
       "      <td>1</td>\n",
       "      <td>0</td>\n",
       "      <td>1</td>\n",
       "      <td>0</td>\n",
       "      <td>0</td>\n",
       "      <td>0</td>\n",
       "      <td>2015</td>\n",
       "      <td>1</td>\n",
       "      <td>0</td>\n",
       "      <td>NaN</td>\n",
       "      <td>NaN</td>\n",
       "      <td>NaN</td>\n",
       "      <td>NaN</td>\n",
       "      <td>NaN</td>\n",
       "      <td>5</td>\n",
       "      <td>NaN</td>\n",
       "      <td>NaN</td>\n",
       "      <td>NaN</td>\n",
       "    </tr>\n",
       "  </tbody>\n",
       "</table>\n",
       "</div>"
      ],
      "text/plain": [
       "   _id                                         address  total_count  \\\n",
       "0    1   1700 BLOCK ARLINGTON AVE PITTSBURGH, PA 15210            2   \n",
       "1    2     BREVET WAY & MINTON ST PITTSBURGH, PA 15204            1   \n",
       "2    3  TERRACE ST & WHITRIDGE ST PITTSBURGH, PA 15213            1   \n",
       "3    4      3500 BLOCK GERBER AVE PITTSBURGH, PA 15212            1   \n",
       "4    5        7500 BLOCK KELLY ST PITTSBURGH, PA 15208            1   \n",
       "\n",
       "   other_count  pistol_count  revolver_count  rifle_count  shotgun_count  \\\n",
       "0            0             1               1            0              0   \n",
       "1            0             1               0            0              0   \n",
       "2            0             1               0            0              0   \n",
       "3            0             1               0            0              0   \n",
       "4            0             1               0            0              0   \n",
       "\n",
       "   year  month  dow          neighborhood  council_district  ward  \\\n",
       "0  2015      1    0  Mount Oliver Borough               3.0   0.0   \n",
       "1  2015      1    0              Sheraden               2.0  20.0   \n",
       "2  2015      1    0       Terrace Village               6.0   4.0   \n",
       "3  2015      1    0      Brighton Heights               1.0  27.0   \n",
       "4  2015      1    0                   NaN               NaN   NaN   \n",
       "\n",
       "          tract  public_works_division police_zone fire_zone   latitude  \\\n",
       "0  4.200317e+10                    0.0           3       4-6  40.417619   \n",
       "1  4.200356e+10                    5.0           6      1-16  40.456904   \n",
       "2  4.200305e+10                    3.0           2      2-10  40.441185   \n",
       "3  4.200327e+10                    1.0           1      1-14  40.479530   \n",
       "4           NaN                    NaN           5       NaN        NaN   \n",
       "\n",
       "   longitude  \n",
       "0 -79.986436  \n",
       "1 -80.052328  \n",
       "2 -79.968527  \n",
       "3 -80.033477  \n",
       "4        NaN  "
      ]
     },
     "execution_count": 2,
     "metadata": {},
     "output_type": "execute_result"
    }
   ],
   "source": [
    "#read the csv file and check it\n",
    "import pandas as pd\n",
    "firearms = pd.read_csv(\"gun_data.csv\")\n",
    "firearms.head()"
   ]
  },
  {
   "cell_type": "markdown",
   "id": "8ed40620-c5f5-4e5f-a12b-89d6f6c1616b",
   "metadata": {},
   "source": [
    "<br/>\n",
    "I turned the csv file into a dictionary where the keys were the neighborhoods, and the values were the amount of times a neighborhood showed up by iterating over the Incident Neighborhood column."
   ]
  },
  {
   "cell_type": "code",
   "execution_count": 3,
   "id": "cd609210-55e2-4d18-be26-db8996c44e78",
   "metadata": {},
   "outputs": [
    {
     "name": "stdout",
     "output_type": "stream",
     "text": [
      "{'Mount Oliver Borough': 7, 'Sheraden': 108, 'Terrace Village': 40, 'Brighton Heights': 82, nan: 781, 'Westwood': 10, 'East Liberty': 74, 'Upper Lawrenceville': 11, 'Marshall-Shadeland': 108, 'Beechview': 65, 'East Hills': 109, 'Arlington': 28, 'Arlington Heights': 8, 'Mount Washington': 78, 'South Side Flats': 180, 'Hazelwood': 112, 'Homewood South': 252, 'Greenfield': 22, 'Bloomfield': 38, 'Beltzhoover': 43, 'Homewood North': 130, 'Upper Hill': 28, 'Perry South': 112, 'Lincoln-Lemington-Belmar': 103, 'Bedford Dwellings': 69, 'Homewood West': 53, 'Carrick': 117, 'Central Northside': 59, 'Chateau': 22, 'Fineview': 62, 'Chartiers City': 4, 'Larimer': 107, 'Polish Hill': 10, 'South Shore': 12, 'Highland Park': 31, 'Knoxville': 96, 'Lower Lawrenceville': 13, 'Allentown': 67, 'Spring Hill-City View': 65, 'Garfield': 80, 'Bluff': 50, 'Overbrook': 25, 'South Side Slopes': 37, 'Central Business District': 112, 'Banksville': 10, 'Perry North': 33, 'Friendship': 3, 'Crawford-Roberts': 50, 'Middle Hill': 88, 'Brookline': 51, 'Point Breeze': 23, 'Crafton Heights': 44, 'Northview Heights': 48, 'South Oakland': 16, 'Point Breeze North': 17, 'East Allegheny': 55, 'Elliott': 40, 'Fairywood': 7, 'Shadyside': 25, 'Allegheny West': 16, 'Manchester': 64, 'North Oakland': 15, 'Troy Hill': 34, 'West Oakland': 13, 'Summer Hill': 2, 'Spring Garden': 9, 'Stanton Heights': 14, 'Allegheny Center': 16, 'Glen Hazel': 15, 'Squirrel Hill South': 33, 'California-Kirkbride': 29, 'Strip District': 22, 'Squirrel Hill North': 10, 'Morningside': 12, 'Central Oakland': 16, 'Central Lawrenceville': 23, 'Regent Square': 4, 'St. Clair': 4, 'Duquesne Heights': 15, 'Oakwood': 4, 'Windgap': 11, 'Bon Air': 8, 'North Shore': 16, 'Lincoln Place': 8, 'Mt. Oliver': 4, 'West End': 6, 'Esplen': 9, 'Hays': 7, 'Swisshelm Park': 1}\n"
     ]
    }
   ],
   "source": [
    "#count how many times each neighborhood appears using a dictionary\n",
    "guns = dict()\n",
    "\n",
    "for index, row in firearms.iterrows():\n",
    "    item = row['neighborhood']\n",
    "    \n",
    "    if item not in guns:\n",
    "        guns[item] = 1\n",
    "    else:\n",
    "        guns[item] = guns[item] + 1\n",
    "        \n",
    "print(guns)"
   ]
  },
  {
   "cell_type": "markdown",
   "id": "a215df2a-2b5d-43b1-92a4-abcbc8e02cf4",
   "metadata": {},
   "source": [
    "<br/>\n",
    "This data is unsorted, so I wanted to turn the dictionary into something that would be easier to manipulate. I turned the dictionary into a data frame."
   ]
  },
  {
   "cell_type": "code",
   "execution_count": 5,
   "id": "d042c726-9638-417b-9eb8-bf2d95cae213",
   "metadata": {},
   "outputs": [
    {
     "name": "stdout",
     "output_type": "stream",
     "text": [
      "            Neighborhood  Firearms\n",
      "0   Mount Oliver Borough         7\n",
      "1               Sheraden       108\n",
      "2        Terrace Village        40\n",
      "3       Brighton Heights        82\n",
      "4                    NaN       781\n",
      "..                   ...       ...\n",
      "84            Mt. Oliver         4\n",
      "85              West End         6\n",
      "86                Esplen         9\n",
      "87                  Hays         7\n",
      "88        Swisshelm Park         1\n",
      "\n",
      "[89 rows x 2 columns]\n"
     ]
    }
   ],
   "source": [
    "#Turn dictionary into a data frame\n",
    "data = {\n",
    "    \"Neighborhood\": guns.keys(),\n",
    "    \"Firearms\": guns.values()\n",
    "}\n",
    "gn = pd.DataFrame(data)\n",
    "\n",
    "print(gn) "
   ]
  },
  {
   "cell_type": "markdown",
   "id": "86c18a42-87a2-4ed9-bf43-1f77062db074",
   "metadata": {},
   "source": [
    "<br/>\n",
    "To find out the neighborhood with the least amount of arrests, I need to sort the data, so I sorted the data frame by the number of arrests."
   ]
  },
  {
   "cell_type": "code",
   "execution_count": 6,
   "id": "d3b1546a-5981-4baf-962d-089362df5a3a",
   "metadata": {},
   "outputs": [
    {
     "name": "stdout",
     "output_type": "stream",
     "text": [
      "        Neighborhood  Firearms\n",
      "88    Swisshelm Park         1\n",
      "64       Summer Hill         2\n",
      "46        Friendship         3\n",
      "76     Regent Square         4\n",
      "79           Oakwood         4\n",
      "..               ...       ...\n",
      "26           Carrick       117\n",
      "20    Homewood North       130\n",
      "14  South Side Flats       180\n",
      "16    Homewood South       252\n",
      "4                NaN       781\n",
      "\n",
      "[89 rows x 2 columns]\n"
     ]
    }
   ],
   "source": [
    "#Sort values\n",
    "gn = gn.sort_values(by=\"Firearms\")\n",
    "print(gn)"
   ]
  },
  {
   "cell_type": "markdown",
   "id": "0538b0a8-6f12-46b3-9e58-cdd7aa6d641f",
   "metadata": {},
   "source": [
    "<br/>\n",
    "Now, I would like to visualize the data with a (bad) bar graph."
   ]
  },
  {
   "cell_type": "code",
   "execution_count": 7,
   "id": "92881194-1abf-4673-a48e-d73330e77658",
   "metadata": {},
   "outputs": [
    {
     "data": {
      "text/plain": [
       "<Axes: >"
      ]
     },
     "execution_count": 7,
     "metadata": {},
     "output_type": "execute_result"
    },
    {
     "data": {
      "image/png": "[encoded data removed]",
      "text/plain": [
       "<Figure size 640x480 with 1 Axes>"
      ]
     },
     "metadata": {},
     "output_type": "display_data"
    }
   ],
   "source": [
    "#plot data\n",
    "gn.plot.bar()"
   ]
  },
  {
   "cell_type": "markdown",
   "id": "5a2227ef-ed34-4c27-9619-8d5d516a6649",
   "metadata": {},
   "source": [
    "<br/>\n",
    "That is unreadable, but I don't need to know the arrests for every neighborhood. That is why we sorted the data, so I am only going to look at the 10 neighborhoods with the least amount of arrests."
   ]
  },
  {
   "cell_type": "code",
   "execution_count": 9,
   "id": "833c1ece-ef3a-49f1-be65-a734e50ed41a",
   "metadata": {},
   "outputs": [
    {
     "data": {
      "text/plain": [
       "<Axes: xlabel='Neighborhood', ylabel='Number of Firearm Seizures'>"
      ]
     },
     "execution_count": 9,
     "metadata": {},
     "output_type": "execute_result"
    },
    {
     "data": {
      "image/png": "[encoded data removed]",
      "text/plain": [
       "<Figure size 640x480 with 1 Axes>"
      ]
     },
     "metadata": {},
     "output_type": "display_data"
    }
   ],
   "source": [
    "#plot better\n",
    "gn[:10].plot.bar(x=\"Neighborhood\", y=\"Firearms\", ylabel=\"Number of Firearm Seizures\", legend=False)"
   ]
  },
  {
   "cell_type": "code",
   "execution_count": null,
   "id": "bd164ff5-b7c1-4961-b7c0-13658498d5b3",
   "metadata": {},
   "outputs": [],
   "source": []
  }
 ],
 "metadata": {
  "kernelspec": {
   "display_name": "Python 3 (ipykernel)",
   "language": "python",
   "name": "python3"
  },
  "language_info": {
   "codemirror_mode": {
    "name": "ipython",
    "version": 3
   },
   "file_extension": ".py",
   "mimetype": "text/x-python",
   "name": "python",
   "nbconvert_exporter": "python",
   "pygments_lexer": "ipython3",
   "version": "3.11.5"
  }
 },
 "nbformat": 4,
 "nbformat_minor": 5
}
