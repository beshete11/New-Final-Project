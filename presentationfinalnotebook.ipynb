{
 "cells": [
  {
   "cell_type": "markdown",
   "id": "10129a31-2a7e-4bb5-b7e6-5088543334b0",
   "metadata": {},
   "source": [
    "# The Best Neighborhood in Pittsburgh"
   ]
  },
  {
   "cell_type": "markdown",
   "id": "27261f91-2050-4f2d-88fc-52de3cc8eb6c",
   "metadata": {},
   "source": [
    "Our team decided that the best neighborhood had to allow you to be calm. In order to feel calm an individual has to feel safe and have positive visual stimuli. Residents that feel safe are able to have a better sense of community and belonging within a nieghborhood. Meanwhile, the presence of trees offers am aesthetic factor as well better air quality. "
   ]
  },
  {
   "cell_type": "markdown",
   "id": "6431e904-9527-47b8-937b-71ee596fd8f4",
   "metadata": {},
   "source": [
    "![Lorax](https://media4.giphy.com/media/v1.Y2lkPTc5MGI3NjExcTloamI2OWhieDV3MzIxb3llY3BjMGtvNGVsZjRwYXFybXV6d3cyNyZlcD12MV9pbnRlcm5hbF9naWZfYnlfaWQmY3Q9Zw/pcHPUCa4GeApO/giphy.gif)"
   ]
  },
  {
   "cell_type": "code",
   "execution_count": 1,
   "id": "b87cd00b-a1ab-4201-ac0d-ebde1da45708",
   "metadata": {},
   "outputs": [],
   "source": [
    "import pandas as pd"
   ]
  },
  {
   "cell_type": "markdown",
   "id": "a9ed3d54-eac6-4712-9b9a-1adca0962920",
   "metadata": {},
   "source": [
    "## Metrics "
   ]
  },
  {
   "cell_type": "markdown",
   "id": "4b51b8ea-216f-40f5-ba7a-6946276a8f9e",
   "metadata": {},
   "source": [
    "The metrics we decided on were the number of firearms, firearm siezures, and trees"
   ]
  },
  {
   "cell_type": "markdown",
   "id": "fab3a8d7-a88b-4e09-95d9-96defaa408f3",
   "metadata": {},
   "source": [
    "#  First Data Set - Arrest Data"
   ]
  },
  {
   "cell_type": "markdown",
   "id": "ae3d428a-06d3-4fc0-9a41-12f9a1f977bf",
   "metadata": {},
   "source": [
    "First, I imported pandas and loaded the data from the csv file and checked to make sure that it imported correctly."
   ]
  },
  {
   "cell_type": "code",
   "execution_count": 17,
   "id": "60b70882-0eb6-4a13-a319-d60b04bbb27e",
   "metadata": {},
   "outputs": [
    {
     "data": {
      "text/html": [
       "<div>\n",
       "<style scoped>\n",
       "    .dataframe tbody tr th:only-of-type {\n",
       "        vertical-align: middle;\n",
       "    }\n",
       "\n",
       "    .dataframe tbody tr th {\n",
       "        vertical-align: top;\n",
       "    }\n",
       "\n",
       "    .dataframe thead th {\n",
       "        text-align: right;\n",
       "    }\n",
       "</style>\n",
       "<table border=\"1\" class=\"dataframe\">\n",
       "  <thead>\n",
       "    <tr style=\"text-align: right;\">\n",
       "      <th></th>\n",
       "      <th>_id</th>\n",
       "      <th>PK</th>\n",
       "      <th>CCR</th>\n",
       "      <th>AGE</th>\n",
       "      <th>GENDER</th>\n",
       "      <th>RACE</th>\n",
       "      <th>ARRESTTIME</th>\n",
       "      <th>ARRESTLOCATION</th>\n",
       "      <th>OFFENSES</th>\n",
       "      <th>INCIDENTLOCATION</th>\n",
       "      <th>INCIDENTNEIGHBORHOOD</th>\n",
       "      <th>INCIDENTZONE</th>\n",
       "      <th>INCIDENTTRACT</th>\n",
       "      <th>COUNCIL_DISTRICT</th>\n",
       "      <th>PUBLIC_WORKS_DIVISION</th>\n",
       "      <th>X</th>\n",
       "      <th>Y</th>\n",
       "    </tr>\n",
       "  </thead>\n",
       "  <tbody>\n",
       "    <tr>\n",
       "      <th>0</th>\n",
       "      <td>1</td>\n",
       "      <td>1975272</td>\n",
       "      <td>16158872</td>\n",
       "      <td>42.0</td>\n",
       "      <td>F</td>\n",
       "      <td>B</td>\n",
       "      <td>2016-08-24T12:20:00</td>\n",
       "      <td>4700 Block Centre AV Pittsburgh, PA 15213</td>\n",
       "      <td>3929 Retail Theft.</td>\n",
       "      <td>4700 Block Centre AV Pittsburgh, PA 15213</td>\n",
       "      <td>Bloomfield</td>\n",
       "      <td>5</td>\n",
       "      <td>804.0</td>\n",
       "      <td>8.0</td>\n",
       "      <td>2.0</td>\n",
       "      <td>-79.949277</td>\n",
       "      <td>40.452551</td>\n",
       "    </tr>\n",
       "    <tr>\n",
       "      <th>1</th>\n",
       "      <td>2</td>\n",
       "      <td>1974456</td>\n",
       "      <td>16144120</td>\n",
       "      <td>31.0</td>\n",
       "      <td>M</td>\n",
       "      <td>W</td>\n",
       "      <td>2016-08-03T14:55:00</td>\n",
       "      <td>4200 Block Steubenville PKE Pittsburgh, PA 15205</td>\n",
       "      <td>13(a)(16) Possession of Controlled Substance</td>\n",
       "      <td>4200 Block Steubenville PKE Pittsburgh, PA 15205</td>\n",
       "      <td>Outside City</td>\n",
       "      <td>OSC</td>\n",
       "      <td>5599.0</td>\n",
       "      <td>NaN</td>\n",
       "      <td>NaN</td>\n",
       "      <td>-80.088018</td>\n",
       "      <td>40.440136</td>\n",
       "    </tr>\n",
       "    <tr>\n",
       "      <th>2</th>\n",
       "      <td>3</td>\n",
       "      <td>1974466</td>\n",
       "      <td>16144165</td>\n",
       "      <td>63.0</td>\n",
       "      <td>F</td>\n",
       "      <td>B</td>\n",
       "      <td>2016-08-03T16:45:00</td>\n",
       "      <td>900 Block Freeport RD Fox Chapel, PA 15238</td>\n",
       "      <td>3929 Retail Theft.</td>\n",
       "      <td>900 Block Freeport RD Fox Chapel, PA 15238</td>\n",
       "      <td>Westwood</td>\n",
       "      <td>5</td>\n",
       "      <td>2811.0</td>\n",
       "      <td>9.0</td>\n",
       "      <td>2.0</td>\n",
       "      <td>-79.891803</td>\n",
       "      <td>40.486625</td>\n",
       "    </tr>\n",
       "    <tr>\n",
       "      <th>3</th>\n",
       "      <td>4</td>\n",
       "      <td>1974550</td>\n",
       "      <td>16145257</td>\n",
       "      <td>25.0</td>\n",
       "      <td>F</td>\n",
       "      <td>W</td>\n",
       "      <td>2016-08-05T02:36:00</td>\n",
       "      <td>Foreland ST &amp; Cedar AV Pittsburgh, PA 15212</td>\n",
       "      <td>5503 Disorderly Conduct. / 5505 Public Drunken...</td>\n",
       "      <td>Foreland ST &amp; Cedar AV Pittsburgh, PA 15212</td>\n",
       "      <td>East Allegheny</td>\n",
       "      <td>1</td>\n",
       "      <td>2304.0</td>\n",
       "      <td>1.0</td>\n",
       "      <td>1.0</td>\n",
       "      <td>-80.001939</td>\n",
       "      <td>40.454080</td>\n",
       "    </tr>\n",
       "    <tr>\n",
       "      <th>4</th>\n",
       "      <td>5</td>\n",
       "      <td>1974596</td>\n",
       "      <td>16145962</td>\n",
       "      <td>25.0</td>\n",
       "      <td>M</td>\n",
       "      <td>B</td>\n",
       "      <td>2016-08-06T02:00:00</td>\n",
       "      <td>900 Block Woodlow ST Pittsburgh, PA 15205</td>\n",
       "      <td>2702 Aggravated Assault. / 2705 Recklessy Enda...</td>\n",
       "      <td>900 Block Woodlow ST Pittsburgh, PA 15205</td>\n",
       "      <td>Crafton Heights</td>\n",
       "      <td>5</td>\n",
       "      <td>2814.0</td>\n",
       "      <td>2.0</td>\n",
       "      <td>5.0</td>\n",
       "      <td>-80.052204</td>\n",
       "      <td>40.445900</td>\n",
       "    </tr>\n",
       "  </tbody>\n",
       "</table>\n",
       "</div>"
      ],
      "text/plain": [
       "   _id       PK       CCR   AGE GENDER RACE           ARRESTTIME  \\\n",
       "0    1  1975272  16158872  42.0      F    B  2016-08-24T12:20:00   \n",
       "1    2  1974456  16144120  31.0      M    W  2016-08-03T14:55:00   \n",
       "2    3  1974466  16144165  63.0      F    B  2016-08-03T16:45:00   \n",
       "3    4  1974550  16145257  25.0      F    W  2016-08-05T02:36:00   \n",
       "4    5  1974596  16145962  25.0      M    B  2016-08-06T02:00:00   \n",
       "\n",
       "                                     ARRESTLOCATION  \\\n",
       "0         4700 Block Centre AV Pittsburgh, PA 15213   \n",
       "1  4200 Block Steubenville PKE Pittsburgh, PA 15205   \n",
       "2        900 Block Freeport RD Fox Chapel, PA 15238   \n",
       "3       Foreland ST & Cedar AV Pittsburgh, PA 15212   \n",
       "4         900 Block Woodlow ST Pittsburgh, PA 15205   \n",
       "\n",
       "                                            OFFENSES  \\\n",
       "0                                 3929 Retail Theft.   \n",
       "1       13(a)(16) Possession of Controlled Substance   \n",
       "2                                 3929 Retail Theft.   \n",
       "3  5503 Disorderly Conduct. / 5505 Public Drunken...   \n",
       "4  2702 Aggravated Assault. / 2705 Recklessy Enda...   \n",
       "\n",
       "                                   INCIDENTLOCATION INCIDENTNEIGHBORHOOD  \\\n",
       "0         4700 Block Centre AV Pittsburgh, PA 15213           Bloomfield   \n",
       "1  4200 Block Steubenville PKE Pittsburgh, PA 15205         Outside City   \n",
       "2        900 Block Freeport RD Fox Chapel, PA 15238             Westwood   \n",
       "3       Foreland ST & Cedar AV Pittsburgh, PA 15212       East Allegheny   \n",
       "4         900 Block Woodlow ST Pittsburgh, PA 15205      Crafton Heights   \n",
       "\n",
       "  INCIDENTZONE  INCIDENTTRACT  COUNCIL_DISTRICT  PUBLIC_WORKS_DIVISION  \\\n",
       "0            5          804.0               8.0                    2.0   \n",
       "1          OSC         5599.0               NaN                    NaN   \n",
       "2            5         2811.0               9.0                    2.0   \n",
       "3            1         2304.0               1.0                    1.0   \n",
       "4            5         2814.0               2.0                    5.0   \n",
       "\n",
       "           X          Y  \n",
       "0 -79.949277  40.452551  \n",
       "1 -80.088018  40.440136  \n",
       "2 -79.891803  40.486625  \n",
       "3 -80.001939  40.454080  \n",
       "4 -80.052204  40.445900  "
      ]
     },
     "execution_count": 17,
     "metadata": {},
     "output_type": "execute_result"
    }
   ],
   "source": [
    "#read the csv file and check it\n",
    "import pandas as pd\n",
    "arrests = pd.read_csv(\"arrest_data.csv\")\n",
    "arrests.head()"
   ]
  },
  {
   "cell_type": "markdown",
   "id": "c910560b-d4bb-4bf2-b120-f4588547968b",
   "metadata": {},
   "source": [
    "<br/>\n",
    "I turned the csv file into a dictionary where the keys were the neighborhoods, and the values were the amount of times a neighborhood showed up by iterating over the Incident Neighborhood column."
   ]
  },
  {
   "cell_type": "code",
   "execution_count": 18,
   "id": "e1518d09-8a63-4b75-b05c-17f3bd8f47b4",
   "metadata": {},
   "outputs": [
    {
     "name": "stdout",
     "output_type": "stream",
     "text": [
      "{'Bloomfield': 984, 'Outside City': 316, 'Westwood': 226, 'East Allegheny': 2217, 'Crafton Heights': 601, 'Greenfield': 537, 'Brookline': 1390, 'Regent Square': 37, 'East Liberty': 1889, nan: 2489, 'East Hills': 1194, 'Carrick': 2352, 'Allegheny Center': 1244, 'South Side Flats': 3497, 'Sheraden': 1285, 'East Carnegie': 48, 'Golden Triangle/Civic Arena': 83, 'Point Breeze North': 289, 'Perry South': 1057, 'Allentown': 947, 'North Shore': 814, 'Marshall-Shadeland': 1516, 'Central Oakland': 521, 'Middle Hill': 932, 'Strip District': 503, 'Lincoln-Lemington-Belmar': 1362, 'Central Northside': 23, 'Troy Hill-Herrs Island': 6, 'Highland Park': 558, 'Homewood North': 1969, 'Northview Heights': 713, 'Brighton Heights': 1114, 'Hazelwood': 1396, 'Perry North': 587, 'Bedford Dwellings': 665, 'Elliott': 663, 'Beechview': 1201, 'Fineview': 796, 'Glen Hazel': 169, 'Spring Hill-City View': 711, 'Bluff': 1502, 'Manchester': 471, 'Homewood West': 764, 'Outside County': 57, 'Point Breeze': 301, 'Homewood South': 2090, 'Squirrel Hill South': 812, 'Terrace Village': 297, 'Upper Lawrenceville': 189, 'Arlington': 312, 'South Side Slopes': 801, 'Lower Lawrenceville': 272, 'Garfield': 722, 'Lincoln Place': 227, 'Larimer': 879, 'Mount Washington': 1434, 'California-Kirkbride': 315, 'Banksville': 291, 'Bon Air': 267, 'South Shore': 301, 'Beltzhoover': 496, 'Knoxville': 1336, 'Chateau': 454, 'Crawford-Roberts': 839, 'Polish Hill': 166, 'Fairywood': 127, 'West End': 290, 'Shadyside': 971, 'Morningside': 188, 'Overbrook': 331, 'Friendship': 174, 'North Oakland': 455, 'Central Lawrenceville': 431, 'Oakwood': 82, 'Upper Hill': 370, 'South Oakland': 354, 'West Oakland': 325, 'Spring Garden': 219, 'Allegheny West': 130, 'St. Clair': 55, 'Stanton Heights': 223, 'Esplen': 200, 'Squirrel Hill North': 290, 'Mt. Oliver Neighborhood': 2, 'Summer Hill': 76, 'Arlington Heights': 155, 'Troy Hill': 439, 'Central Business District': 4440, 'Central North Side': 853, 'Mount Oliver': 124, 'Windgap': 124, 'Outside State': 67, 'Duquesne Heights': 191, 'New Homestead': 39, 'Ridgemont': 37, 'Swisshelm Park': 43, 'Hays': 120, 'Chartiers City': 46, 'Mt. Oliver Boro': 18}\n"
     ]
    }
   ],
   "source": [
    "#count how many times each neighborhood appears using a dictionary\n",
    "neighbor = dict()\n",
    "\n",
    "for index, row in arrests.iterrows():\n",
    "    item = row['INCIDENTNEIGHBORHOOD']\n",
    "    \n",
    "    if item not in neighbor:\n",
    "        neighbor[item] = 1\n",
    "    else:\n",
    "        neighbor[item] = neighbor[item] + 1\n",
    "        \n",
    "print(neighbor)"
   ]
  },
  {
   "cell_type": "markdown",
   "id": "7b7ab102-b7eb-4235-ac42-44d570771161",
   "metadata": {},
   "source": [
    "<br/>\n",
    "This data is unsorted, so I wanted to turn the dictionary into something that would be easier to manipulate. I turned the dictionary into a data frame."
   ]
  },
  {
   "cell_type": "code",
   "execution_count": 4,
   "id": "54f1a78c-2d3f-46e2-9e82-0c8056400ab8",
   "metadata": {},
   "outputs": [
    {
     "name": "stdout",
     "output_type": "stream",
     "text": [
      "       Neighborhood  Arrests\n",
      "0        Bloomfield      984\n",
      "1      Outside City      316\n",
      "2          Westwood      226\n",
      "3    East Allegheny     2217\n",
      "4   Crafton Heights      601\n",
      "..              ...      ...\n",
      "94        Ridgemont       37\n",
      "95   Swisshelm Park       43\n",
      "96             Hays      120\n",
      "97   Chartiers City       46\n",
      "98  Mt. Oliver Boro       18\n",
      "\n",
      "[99 rows x 2 columns]\n"
     ]
    }
   ],
   "source": [
    "#Turn dictionary into a data frame\n",
    "data = {\n",
    "    \"Neighborhood\": neighbor.keys(),\n",
    "    \"Arrests\": neighbor.values()\n",
    "}\n",
    "nbrs = pd.DataFrame(data)\n",
    "\n",
    "print(nbrs) "
   ]
  },
  {
   "cell_type": "markdown",
   "id": "8cf9aab2-7472-4c23-afac-ee3fa4d72961",
   "metadata": {},
   "source": [
    "<br/>\n",
    "To find out the neighborhood with the least amount of arrests, I need to sort the data, so I sorted the data frame by the number of arrests."
   ]
  },
  {
   "cell_type": "code",
   "execution_count": 5,
   "id": "3c951bee-0edd-4c1c-83ba-c0f762cf7310",
   "metadata": {},
   "outputs": [
    {
     "name": "stdout",
     "output_type": "stream",
     "text": [
      "                 Neighborhood  Arrests\n",
      "83    Mt. Oliver Neighborhood        2\n",
      "27     Troy Hill-Herrs Island        6\n",
      "98            Mt. Oliver Boro       18\n",
      "26          Central Northside       23\n",
      "94                  Ridgemont       37\n",
      "..                        ...      ...\n",
      "3              East Allegheny     2217\n",
      "11                    Carrick     2352\n",
      "9                         NaN     2489\n",
      "13           South Side Flats     3497\n",
      "87  Central Business District     4440\n",
      "\n",
      "[99 rows x 2 columns]\n"
     ]
    }
   ],
   "source": [
    "#Sort values\n",
    "nbrs = nbrs.sort_values(by=\"Arrests\")\n",
    "print(nbrs)"
   ]
  },
  {
   "cell_type": "markdown",
   "id": "f5aac187-26a9-45e9-a7a2-3d85347f0e70",
   "metadata": {},
   "source": [
    "<br/>\n",
    "Now, I would like to visualize the data with a (bad) bar graph."
   ]
  },
  {
   "cell_type": "code",
   "execution_count": 6,
   "id": "f8577755-30ce-4511-aec8-4715a5808224",
   "metadata": {},
   "outputs": [
    {
     "data": {
      "text/plain": [
       "<Axes: >"
      ]
     },
     "execution_count": 6,
     "metadata": {},
     "output_type": "execute_result"
    },
    {
     "data": {
      "image/png": "[encoded data removed]",
      "text/plain": [
       "<Figure size 640x480 with 1 Axes>"
      ]
     },
     "metadata": {},
     "output_type": "display_data"
    }
   ],
   "source": [
    "#plot data\n",
    "nbrs.plot.bar()"
   ]
  },
  {
   "cell_type": "markdown",
   "id": "b278fe5b-4647-4ead-838c-08dc237d9ba2",
   "metadata": {},
   "source": [
    "<br/>\n",
    "That is unreadable, but I don't need to know the arrests for every neighborhood. That is why we sorted the data, so I am only going to look at the 10 neighborhoods with the least amount of arrests."
   ]
  },
  {
   "cell_type": "code",
   "execution_count": 7,
   "id": "1e4abcfb-a056-4ff3-b6bf-f2977ae6cbd7",
   "metadata": {},
   "outputs": [
    {
     "data": {
      "text/plain": [
       "<Axes: xlabel='Neighborhood', ylabel='Number of Arrests'>"
      ]
     },
     "execution_count": 7,
     "metadata": {},
     "output_type": "execute_result"
    },
    {
     "data": {
      "image/png": "[encoded data removed]",
      "text/plain": [
       "<Figure size 640x480 with 1 Axes>"
      ]
     },
     "metadata": {},
     "output_type": "display_data"
    }
   ],
   "source": [
    "#plot better\n",
    "nbrs[:10].plot.bar(x=\"Neighborhood\", y=\"Arrests\", ylabel=\"Number of Arrests\", legend=False)"
   ]
  },
  {
   "cell_type": "code",
   "execution_count": 8,
   "id": "8aa26e74-3c1c-4b34-b449-10a2d5a662b7",
   "metadata": {},
   "outputs": [
    {
     "name": "stdout",
     "output_type": "stream",
     "text": [
      "               Neighborhood  Arrests  Arrest_Score\n",
      "83  Mt. Oliver Neighborhood        2      0.999550\n",
      "27   Troy Hill-Herrs Island        6      0.998649\n",
      "98          Mt. Oliver Boro       18      0.995946\n",
      "26        Central Northside       23      0.994820\n",
      "94                Ridgemont       37      0.991667\n",
      "7             Regent Square       37      0.991667\n",
      "93            New Homestead       39      0.991216\n",
      "95           Swisshelm Park       43      0.990315\n",
      "97           Chartiers City       46      0.989640\n",
      "15            East Carnegie       48      0.989189\n"
     ]
    }
   ],
   "source": [
    "nbrs['Arrest_Score'] = 1 - (nbrs['Arrests']/nbrs['Arrests'].max())\n",
    "top_10_safest = nbrs.sort_values(by='Arrest_Score', ascending = False).head(10)\n",
    "print(top_10_safest)"
   ]
  },
  {
   "cell_type": "markdown",
   "id": "1443bfa3-c419-4c8b-96a3-1447fd497430",
   "metadata": {},
   "source": [
    "# Second Data Set - Firearm Data"
   ]
  },
  {
   "cell_type": "markdown",
   "id": "a40a1a4c-1e2f-4041-951e-42f1bdebf1ad",
   "metadata": {},
   "source": [
    "First, I imported pandas and loaded the data from the csv file and checked to make sure that it imported correctly."
   ]
  },
  {
   "cell_type": "code",
   "execution_count": 9,
   "id": "8bda8780-bf88-447e-8ee7-28d72cd01de5",
   "metadata": {},
   "outputs": [
    {
     "data": {
      "text/html": [
       "<div>\n",
       "<style scoped>\n",
       "    .dataframe tbody tr th:only-of-type {\n",
       "        vertical-align: middle;\n",
       "    }\n",
       "\n",
       "    .dataframe tbody tr th {\n",
       "        vertical-align: top;\n",
       "    }\n",
       "\n",
       "    .dataframe thead th {\n",
       "        text-align: right;\n",
       "    }\n",
       "</style>\n",
       "<table border=\"1\" class=\"dataframe\">\n",
       "  <thead>\n",
       "    <tr style=\"text-align: right;\">\n",
       "      <th></th>\n",
       "      <th>_id</th>\n",
       "      <th>address</th>\n",
       "      <th>total_count</th>\n",
       "      <th>other_count</th>\n",
       "      <th>pistol_count</th>\n",
       "      <th>revolver_count</th>\n",
       "      <th>rifle_count</th>\n",
       "      <th>shotgun_count</th>\n",
       "      <th>year</th>\n",
       "      <th>month</th>\n",
       "      <th>dow</th>\n",
       "      <th>neighborhood</th>\n",
       "      <th>council_district</th>\n",
       "      <th>ward</th>\n",
       "      <th>tract</th>\n",
       "      <th>public_works_division</th>\n",
       "      <th>police_zone</th>\n",
       "      <th>fire_zone</th>\n",
       "      <th>latitude</th>\n",
       "      <th>longitude</th>\n",
       "    </tr>\n",
       "  </thead>\n",
       "  <tbody>\n",
       "    <tr>\n",
       "      <th>0</th>\n",
       "      <td>1</td>\n",
       "      <td>1700 BLOCK ARLINGTON AVE PITTSBURGH, PA 15210</td>\n",
       "      <td>2</td>\n",
       "      <td>0</td>\n",
       "      <td>1</td>\n",
       "      <td>1</td>\n",
       "      <td>0</td>\n",
       "      <td>0</td>\n",
       "      <td>2015</td>\n",
       "      <td>1</td>\n",
       "      <td>0</td>\n",
       "      <td>Mount Oliver Borough</td>\n",
       "      <td>3.0</td>\n",
       "      <td>0.0</td>\n",
       "      <td>4.200317e+10</td>\n",
       "      <td>0.0</td>\n",
       "      <td>3</td>\n",
       "      <td>4-6</td>\n",
       "      <td>40.417619</td>\n",
       "      <td>-79.986436</td>\n",
       "    </tr>\n",
       "    <tr>\n",
       "      <th>1</th>\n",
       "      <td>2</td>\n",
       "      <td>BREVET WAY &amp; MINTON ST PITTSBURGH, PA 15204</td>\n",
       "      <td>1</td>\n",
       "      <td>0</td>\n",
       "      <td>1</td>\n",
       "      <td>0</td>\n",
       "      <td>0</td>\n",
       "      <td>0</td>\n",
       "      <td>2015</td>\n",
       "      <td>1</td>\n",
       "      <td>0</td>\n",
       "      <td>Sheraden</td>\n",
       "      <td>2.0</td>\n",
       "      <td>20.0</td>\n",
       "      <td>4.200356e+10</td>\n",
       "      <td>5.0</td>\n",
       "      <td>6</td>\n",
       "      <td>1-16</td>\n",
       "      <td>40.456904</td>\n",
       "      <td>-80.052328</td>\n",
       "    </tr>\n",
       "    <tr>\n",
       "      <th>2</th>\n",
       "      <td>3</td>\n",
       "      <td>TERRACE ST &amp; WHITRIDGE ST PITTSBURGH, PA 15213</td>\n",
       "      <td>1</td>\n",
       "      <td>0</td>\n",
       "      <td>1</td>\n",
       "      <td>0</td>\n",
       "      <td>0</td>\n",
       "      <td>0</td>\n",
       "      <td>2015</td>\n",
       "      <td>1</td>\n",
       "      <td>0</td>\n",
       "      <td>Terrace Village</td>\n",
       "      <td>6.0</td>\n",
       "      <td>4.0</td>\n",
       "      <td>4.200305e+10</td>\n",
       "      <td>3.0</td>\n",
       "      <td>2</td>\n",
       "      <td>2-10</td>\n",
       "      <td>40.441185</td>\n",
       "      <td>-79.968527</td>\n",
       "    </tr>\n",
       "    <tr>\n",
       "      <th>3</th>\n",
       "      <td>4</td>\n",
       "      <td>3500 BLOCK GERBER AVE PITTSBURGH, PA 15212</td>\n",
       "      <td>1</td>\n",
       "      <td>0</td>\n",
       "      <td>1</td>\n",
       "      <td>0</td>\n",
       "      <td>0</td>\n",
       "      <td>0</td>\n",
       "      <td>2015</td>\n",
       "      <td>1</td>\n",
       "      <td>0</td>\n",
       "      <td>Brighton Heights</td>\n",
       "      <td>1.0</td>\n",
       "      <td>27.0</td>\n",
       "      <td>4.200327e+10</td>\n",
       "      <td>1.0</td>\n",
       "      <td>1</td>\n",
       "      <td>1-14</td>\n",
       "      <td>40.479530</td>\n",
       "      <td>-80.033477</td>\n",
       "    </tr>\n",
       "    <tr>\n",
       "      <th>4</th>\n",
       "      <td>5</td>\n",
       "      <td>7500 BLOCK KELLY ST PITTSBURGH, PA 15208</td>\n",
       "      <td>1</td>\n",
       "      <td>0</td>\n",
       "      <td>1</td>\n",
       "      <td>0</td>\n",
       "      <td>0</td>\n",
       "      <td>0</td>\n",
       "      <td>2015</td>\n",
       "      <td>1</td>\n",
       "      <td>0</td>\n",
       "      <td>NaN</td>\n",
       "      <td>NaN</td>\n",
       "      <td>NaN</td>\n",
       "      <td>NaN</td>\n",
       "      <td>NaN</td>\n",
       "      <td>5</td>\n",
       "      <td>NaN</td>\n",
       "      <td>NaN</td>\n",
       "      <td>NaN</td>\n",
       "    </tr>\n",
       "  </tbody>\n",
       "</table>\n",
       "</div>"
      ],
      "text/plain": [
       "   _id                                         address  total_count  \\\n",
       "0    1   1700 BLOCK ARLINGTON AVE PITTSBURGH, PA 15210            2   \n",
       "1    2     BREVET WAY & MINTON ST PITTSBURGH, PA 15204            1   \n",
       "2    3  TERRACE ST & WHITRIDGE ST PITTSBURGH, PA 15213            1   \n",
       "3    4      3500 BLOCK GERBER AVE PITTSBURGH, PA 15212            1   \n",
       "4    5        7500 BLOCK KELLY ST PITTSBURGH, PA 15208            1   \n",
       "\n",
       "   other_count  pistol_count  revolver_count  rifle_count  shotgun_count  \\\n",
       "0            0             1               1            0              0   \n",
       "1            0             1               0            0              0   \n",
       "2            0             1               0            0              0   \n",
       "3            0             1               0            0              0   \n",
       "4            0             1               0            0              0   \n",
       "\n",
       "   year  month  dow          neighborhood  council_district  ward  \\\n",
       "0  2015      1    0  Mount Oliver Borough               3.0   0.0   \n",
       "1  2015      1    0              Sheraden               2.0  20.0   \n",
       "2  2015      1    0       Terrace Village               6.0   4.0   \n",
       "3  2015      1    0      Brighton Heights               1.0  27.0   \n",
       "4  2015      1    0                   NaN               NaN   NaN   \n",
       "\n",
       "          tract  public_works_division police_zone fire_zone   latitude  \\\n",
       "0  4.200317e+10                    0.0           3       4-6  40.417619   \n",
       "1  4.200356e+10                    5.0           6      1-16  40.456904   \n",
       "2  4.200305e+10                    3.0           2      2-10  40.441185   \n",
       "3  4.200327e+10                    1.0           1      1-14  40.479530   \n",
       "4           NaN                    NaN           5       NaN        NaN   \n",
       "\n",
       "   longitude  \n",
       "0 -79.986436  \n",
       "1 -80.052328  \n",
       "2 -79.968527  \n",
       "3 -80.033477  \n",
       "4        NaN  "
      ]
     },
     "execution_count": 9,
     "metadata": {},
     "output_type": "execute_result"
    }
   ],
   "source": [
    "#read the csv file and check it\n",
    "import pandas as pd\n",
    "firearms = pd.read_csv(\"gun_data.csv\")\n",
    "firearms.head()"
   ]
  },
  {
   "cell_type": "markdown",
   "id": "1ef76a20-7e17-4bee-b09d-735721c1c704",
   "metadata": {},
   "source": [
    "<br/>\n",
    "I turned the csv file into a dictionary where the keys were the neighborhoods, and the values were the amount of times a neighborhood showed up by iterating over the Incident Neighborhood column."
   ]
  },
  {
   "cell_type": "code",
   "execution_count": 10,
   "id": "180c3d64-951f-444f-84f4-15ced328e7cd",
   "metadata": {},
   "outputs": [
    {
     "name": "stdout",
     "output_type": "stream",
     "text": [
      "{'Mount Oliver Borough': 7, 'Sheraden': 108, 'Terrace Village': 40, 'Brighton Heights': 82, nan: 781, 'Westwood': 10, 'East Liberty': 74, 'Upper Lawrenceville': 11, 'Marshall-Shadeland': 108, 'Beechview': 65, 'East Hills': 109, 'Arlington': 28, 'Arlington Heights': 8, 'Mount Washington': 78, 'South Side Flats': 180, 'Hazelwood': 112, 'Homewood South': 252, 'Greenfield': 22, 'Bloomfield': 38, 'Beltzhoover': 43, 'Homewood North': 130, 'Upper Hill': 28, 'Perry South': 112, 'Lincoln-Lemington-Belmar': 103, 'Bedford Dwellings': 69, 'Homewood West': 53, 'Carrick': 117, 'Central Northside': 59, 'Chateau': 22, 'Fineview': 62, 'Chartiers City': 4, 'Larimer': 107, 'Polish Hill': 10, 'South Shore': 12, 'Highland Park': 31, 'Knoxville': 96, 'Lower Lawrenceville': 13, 'Allentown': 67, 'Spring Hill-City View': 65, 'Garfield': 80, 'Bluff': 50, 'Overbrook': 25, 'South Side Slopes': 37, 'Central Business District': 112, 'Banksville': 10, 'Perry North': 33, 'Friendship': 3, 'Crawford-Roberts': 50, 'Middle Hill': 88, 'Brookline': 51, 'Point Breeze': 23, 'Crafton Heights': 44, 'Northview Heights': 48, 'South Oakland': 16, 'Point Breeze North': 17, 'East Allegheny': 55, 'Elliott': 40, 'Fairywood': 7, 'Shadyside': 25, 'Allegheny West': 16, 'Manchester': 64, 'North Oakland': 15, 'Troy Hill': 34, 'West Oakland': 13, 'Summer Hill': 2, 'Spring Garden': 9, 'Stanton Heights': 14, 'Allegheny Center': 16, 'Glen Hazel': 15, 'Squirrel Hill South': 33, 'California-Kirkbride': 29, 'Strip District': 22, 'Squirrel Hill North': 10, 'Morningside': 12, 'Central Oakland': 16, 'Central Lawrenceville': 23, 'Regent Square': 4, 'St. Clair': 4, 'Duquesne Heights': 15, 'Oakwood': 4, 'Windgap': 11, 'Bon Air': 8, 'North Shore': 16, 'Lincoln Place': 8, 'Mt. Oliver': 4, 'West End': 6, 'Esplen': 9, 'Hays': 7, 'Swisshelm Park': 1}\n"
     ]
    }
   ],
   "source": [
    "#count how many times each neighborhood appears using a dictionary\n",
    "guns = dict()\n",
    "\n",
    "for index, row in firearms.iterrows():\n",
    "    item = row['neighborhood']\n",
    "    \n",
    "    if item not in guns:\n",
    "        guns[item] = 1\n",
    "    else:\n",
    "        guns[item] = guns[item] + 1\n",
    "        \n",
    "print(guns)"
   ]
  },
  {
   "cell_type": "markdown",
   "id": "41b9fa5e-20f9-4421-a93f-6605779d9d21",
   "metadata": {},
   "source": [
    "<br/>\n",
    "This data is unsorted, so I wanted to turn the dictionary into something that would be easier to manipulate. I turned the dictionary into a data frame."
   ]
  },
  {
   "cell_type": "code",
   "execution_count": 11,
   "id": "abdafde2-7b5e-44dc-8439-a11861dc7570",
   "metadata": {},
   "outputs": [
    {
     "name": "stdout",
     "output_type": "stream",
     "text": [
      "            Neighborhood  Firearms\n",
      "0   Mount Oliver Borough         7\n",
      "1               Sheraden       108\n",
      "2        Terrace Village        40\n",
      "3       Brighton Heights        82\n",
      "4                    NaN       781\n",
      "..                   ...       ...\n",
      "84            Mt. Oliver         4\n",
      "85              West End         6\n",
      "86                Esplen         9\n",
      "87                  Hays         7\n",
      "88        Swisshelm Park         1\n",
      "\n",
      "[89 rows x 2 columns]\n"
     ]
    }
   ],
   "source": [
    "#Turn dictionary into a data frame\n",
    "data = {\n",
    "    \"Neighborhood\": guns.keys(),\n",
    "    \"Firearms\": guns.values()\n",
    "}\n",
    "gn = pd.DataFrame(data)\n",
    "\n",
    "print(gn) "
   ]
  },
  {
   "cell_type": "markdown",
   "id": "ba540c7a-5e39-4f4c-b422-7934d299f451",
   "metadata": {},
   "source": [
    "<br/>\n",
    "To find out the neighborhood with the least amount of arrests, I need to sort the data, so I sorted the data frame by the number of arrests."
   ]
  },
  {
   "cell_type": "code",
   "execution_count": 12,
   "id": "6a96d88f-dc40-441b-b5f9-e1678c9b0ded",
   "metadata": {},
   "outputs": [
    {
     "name": "stdout",
     "output_type": "stream",
     "text": [
      "        Neighborhood  Firearms\n",
      "88    Swisshelm Park         1\n",
      "64       Summer Hill         2\n",
      "46        Friendship         3\n",
      "76     Regent Square         4\n",
      "79           Oakwood         4\n",
      "..               ...       ...\n",
      "26           Carrick       117\n",
      "20    Homewood North       130\n",
      "14  South Side Flats       180\n",
      "16    Homewood South       252\n",
      "4                NaN       781\n",
      "\n",
      "[89 rows x 2 columns]\n"
     ]
    }
   ],
   "source": [
    "#Sort values\n",
    "gn = gn.sort_values(by=\"Firearms\")\n",
    "print(gn)"
   ]
  },
  {
   "cell_type": "markdown",
   "id": "52905e74-2b01-4d77-b629-248cba4adb9f",
   "metadata": {},
   "source": [
    "<br/>\n",
    "Now, I would like to visualize the data with a (bad) bar graph."
   ]
  },
  {
   "cell_type": "code",
   "execution_count": 13,
   "id": "b61b1ef3-5b05-4197-9e7e-244633873a92",
   "metadata": {},
   "outputs": [
    {
     "data": {
      "text/plain": [
       "<Axes: >"
      ]
     },
     "execution_count": 13,
     "metadata": {},
     "output_type": "execute_result"
    },
    {
     "data": {
      "image/png": "[encoded data removed]",
      "text/plain": [
       "<Figure size 640x480 with 1 Axes>"
      ]
     },
     "metadata": {},
     "output_type": "display_data"
    }
   ],
   "source": [
    "#plot data\n",
    "gn.plot.bar()"
   ]
  },
  {
   "cell_type": "markdown",
   "id": "09815036-0af1-4ced-9326-d9f2cd49ecd0",
   "metadata": {},
   "source": [
    "<br/>\n",
    "That is unreadable, but I don't need to know the arrests for every neighborhood. That is why we sorted the data, so I am only going to look at the 10 neighborhoods with the least amount of arrests."
   ]
  },
  {
   "cell_type": "code",
   "execution_count": 14,
   "id": "e43b65be-9a5f-49b7-9a01-d1da944023f2",
   "metadata": {
    "scrolled": true
   },
   "outputs": [
    {
     "data": {
      "text/plain": [
       "<Axes: xlabel='Neighborhood', ylabel='Number of Firearm Seizures'>"
      ]
     },
     "execution_count": 14,
     "metadata": {},
     "output_type": "execute_result"
    },
    {
     "data": {
      "image/png": "[encoded data removed]",
      "text/plain": [
       "<Figure size 640x480 with 1 Axes>"
      ]
     },
     "metadata": {},
     "output_type": "display_data"
    }
   ],
   "source": [
    "#plot better\n",
    "gn[:10].plot.bar(x=\"Neighborhood\", y=\"Firearms\", ylabel=\"Number of Firearm Seizures\", legend=False)"
   ]
  },
  {
   "cell_type": "code",
   "execution_count": 27,
   "id": "9e544160-06ab-4891-adde-fdaa6a3c3c65",
   "metadata": {},
   "outputs": [
    {
     "name": "stdout",
     "output_type": "stream",
     "text": [
      "      Neighborhood  Firearms  Gun_Score\n",
      "88  Swisshelm Park         1   0.998720\n",
      "64     Summer Hill         2   0.997439\n",
      "46      Friendship         3   0.996159\n",
      "79         Oakwood         4   0.994878\n",
      "77       St. Clair         4   0.994878\n",
      "84      Mt. Oliver         4   0.994878\n",
      "30  Chartiers City         4   0.994878\n",
      "76   Regent Square         4   0.994878\n",
      "85        West End         6   0.992318\n",
      "57       Fairywood         7   0.991037\n"
     ]
    }
   ],
   "source": [
    "gn['Gun_Score'] = 1 - (gn['Firearms']/gn['Firearms'].max())\n",
    "top_10_safest = gn.sort_values(by='Gun_Score', ascending = False).head(10)\n",
    "print(top_10_safest)"
   ]
  },
  {
   "cell_type": "markdown",
   "id": "134a0760-a91e-4032-ad8e-92e8be13ae4a",
   "metadata": {},
   "source": [
    "# Third Data Set - Trees Data"
   ]
  },
  {
   "cell_type": "code",
   "execution_count": 20,
   "id": "f0eebcf0-e41a-404f-a6bd-a2fdd5c42d33",
   "metadata": {},
   "outputs": [
    {
     "name": "stderr",
     "output_type": "stream",
     "text": [
      "/scratch/slurm-13250/ipykernel_84037/1971945974.py:3: DtypeWarning: Columns (2) have mixed types. Specify dtype option on import or set low_memory=False.\n",
      "  trees = pd.read_csv(\"trees_data.csv\")\n"
     ]
    },
    {
     "data": {
      "text/html": [
       "<div>\n",
       "<style scoped>\n",
       "    .dataframe tbody tr th:only-of-type {\n",
       "        vertical-align: middle;\n",
       "    }\n",
       "\n",
       "    .dataframe tbody tr th {\n",
       "        vertical-align: top;\n",
       "    }\n",
       "\n",
       "    .dataframe thead th {\n",
       "        text-align: right;\n",
       "    }\n",
       "</style>\n",
       "<table border=\"1\" class=\"dataframe\">\n",
       "  <thead>\n",
       "    <tr style=\"text-align: right;\">\n",
       "      <th></th>\n",
       "      <th>_id</th>\n",
       "      <th>id</th>\n",
       "      <th>address_number</th>\n",
       "      <th>street</th>\n",
       "      <th>common_name</th>\n",
       "      <th>scientific_name</th>\n",
       "      <th>height</th>\n",
       "      <th>width</th>\n",
       "      <th>growth_space_length</th>\n",
       "      <th>growth_space_width</th>\n",
       "      <th>...</th>\n",
       "      <th>neighborhood</th>\n",
       "      <th>council_district</th>\n",
       "      <th>ward</th>\n",
       "      <th>tract</th>\n",
       "      <th>public_works_division</th>\n",
       "      <th>pli_division</th>\n",
       "      <th>police_zone</th>\n",
       "      <th>fire_zone</th>\n",
       "      <th>latitude</th>\n",
       "      <th>longitude</th>\n",
       "    </tr>\n",
       "  </thead>\n",
       "  <tbody>\n",
       "    <tr>\n",
       "      <th>0</th>\n",
       "      <td>1</td>\n",
       "      <td>754166088</td>\n",
       "      <td>7428.0</td>\n",
       "      <td>MONTICELLO ST</td>\n",
       "      <td>Stump</td>\n",
       "      <td>Stump</td>\n",
       "      <td>0.0</td>\n",
       "      <td>0.0</td>\n",
       "      <td>10.0</td>\n",
       "      <td>2.0</td>\n",
       "      <td>...</td>\n",
       "      <td>Homewood North</td>\n",
       "      <td>9.0</td>\n",
       "      <td>13.0</td>\n",
       "      <td>4.200313e+10</td>\n",
       "      <td>2.0</td>\n",
       "      <td>13.0</td>\n",
       "      <td>5.0</td>\n",
       "      <td>3-17</td>\n",
       "      <td>40.458169</td>\n",
       "      <td>-79.889724</td>\n",
       "    </tr>\n",
       "    <tr>\n",
       "      <th>1</th>\n",
       "      <td>2</td>\n",
       "      <td>1946899269</td>\n",
       "      <td>220.0</td>\n",
       "      <td>BALVER AVE</td>\n",
       "      <td>Linden: Littleleaf</td>\n",
       "      <td>Tilia cordata</td>\n",
       "      <td>0.0</td>\n",
       "      <td>0.0</td>\n",
       "      <td>99.0</td>\n",
       "      <td>99.0</td>\n",
       "      <td>...</td>\n",
       "      <td>Oakwood</td>\n",
       "      <td>2.0</td>\n",
       "      <td>28.0</td>\n",
       "      <td>4.200356e+10</td>\n",
       "      <td>5.0</td>\n",
       "      <td>28.0</td>\n",
       "      <td>6.0</td>\n",
       "      <td>1-19</td>\n",
       "      <td>40.429269</td>\n",
       "      <td>-80.067868</td>\n",
       "    </tr>\n",
       "    <tr>\n",
       "      <th>2</th>\n",
       "      <td>3</td>\n",
       "      <td>1431517397</td>\n",
       "      <td>2822.0</td>\n",
       "      <td>SIDNEY ST</td>\n",
       "      <td>Maple: Red</td>\n",
       "      <td>Acer rubrum</td>\n",
       "      <td>22.0</td>\n",
       "      <td>6.0</td>\n",
       "      <td>6.0</td>\n",
       "      <td>3.0</td>\n",
       "      <td>...</td>\n",
       "      <td>South Side Flats</td>\n",
       "      <td>3.0</td>\n",
       "      <td>16.0</td>\n",
       "      <td>4.200316e+10</td>\n",
       "      <td>3.0</td>\n",
       "      <td>16.0</td>\n",
       "      <td>3.0</td>\n",
       "      <td>4-24</td>\n",
       "      <td>40.426797</td>\n",
       "      <td>-79.965035</td>\n",
       "    </tr>\n",
       "    <tr>\n",
       "      <th>3</th>\n",
       "      <td>4</td>\n",
       "      <td>994063598</td>\n",
       "      <td>608.0</td>\n",
       "      <td>SUISMON ST</td>\n",
       "      <td>Maple: Freeman</td>\n",
       "      <td>Acer x freemanii</td>\n",
       "      <td>25.0</td>\n",
       "      <td>10.0</td>\n",
       "      <td>3.0</td>\n",
       "      <td>3.0</td>\n",
       "      <td>...</td>\n",
       "      <td>East Allegheny</td>\n",
       "      <td>1.0</td>\n",
       "      <td>23.0</td>\n",
       "      <td>4.200356e+10</td>\n",
       "      <td>1.0</td>\n",
       "      <td>23.0</td>\n",
       "      <td>1.0</td>\n",
       "      <td>1-6</td>\n",
       "      <td>40.455503</td>\n",
       "      <td>-79.999276</td>\n",
       "    </tr>\n",
       "    <tr>\n",
       "      <th>4</th>\n",
       "      <td>5</td>\n",
       "      <td>1591838573</td>\n",
       "      <td>1135.0</td>\n",
       "      <td>N NEGLEY AVE</td>\n",
       "      <td>Maple: Norway</td>\n",
       "      <td>Acer platanoides</td>\n",
       "      <td>52.0</td>\n",
       "      <td>13.0</td>\n",
       "      <td>99.0</td>\n",
       "      <td>99.0</td>\n",
       "      <td>...</td>\n",
       "      <td>Highland Park</td>\n",
       "      <td>7.0</td>\n",
       "      <td>11.0</td>\n",
       "      <td>4.200311e+10</td>\n",
       "      <td>2.0</td>\n",
       "      <td>11.0</td>\n",
       "      <td>5.0</td>\n",
       "      <td>3-9</td>\n",
       "      <td>40.476667</td>\n",
       "      <td>-79.924106</td>\n",
       "    </tr>\n",
       "  </tbody>\n",
       "</table>\n",
       "<p>5 rows × 59 columns</p>\n",
       "</div>"
      ],
      "text/plain": [
       "   _id          id address_number         street         common_name  \\\n",
       "0    1   754166088         7428.0  MONTICELLO ST               Stump   \n",
       "1    2  1946899269          220.0     BALVER AVE  Linden: Littleleaf   \n",
       "2    3  1431517397         2822.0      SIDNEY ST          Maple: Red   \n",
       "3    4   994063598          608.0     SUISMON ST      Maple: Freeman   \n",
       "4    5  1591838573         1135.0   N NEGLEY AVE       Maple: Norway   \n",
       "\n",
       "    scientific_name  height  width  growth_space_length  growth_space_width  \\\n",
       "0             Stump     0.0    0.0                 10.0                 2.0   \n",
       "1     Tilia cordata     0.0    0.0                 99.0                99.0   \n",
       "2       Acer rubrum    22.0    6.0                  6.0                 3.0   \n",
       "3  Acer x freemanii    25.0   10.0                  3.0                 3.0   \n",
       "4  Acer platanoides    52.0   13.0                 99.0                99.0   \n",
       "\n",
       "   ...      neighborhood  council_district  ward         tract  \\\n",
       "0  ...    Homewood North               9.0  13.0  4.200313e+10   \n",
       "1  ...           Oakwood               2.0  28.0  4.200356e+10   \n",
       "2  ...  South Side Flats               3.0  16.0  4.200316e+10   \n",
       "3  ...    East Allegheny               1.0  23.0  4.200356e+10   \n",
       "4  ...     Highland Park               7.0  11.0  4.200311e+10   \n",
       "\n",
       "  public_works_division pli_division  police_zone  fire_zone   latitude  \\\n",
       "0                   2.0         13.0          5.0       3-17  40.458169   \n",
       "1                   5.0         28.0          6.0       1-19  40.429269   \n",
       "2                   3.0         16.0          3.0       4-24  40.426797   \n",
       "3                   1.0         23.0          1.0        1-6  40.455503   \n",
       "4                   2.0         11.0          5.0        3-9  40.476667   \n",
       "\n",
       "   longitude  \n",
       "0 -79.889724  \n",
       "1 -80.067868  \n",
       "2 -79.965035  \n",
       "3 -79.999276  \n",
       "4 -79.924106  \n",
       "\n",
       "[5 rows x 59 columns]"
      ]
     },
     "execution_count": 20,
     "metadata": {},
     "output_type": "execute_result"
    }
   ],
   "source": [
    "import pandas as pd\n",
    "\n",
    "trees = pd.read_csv(\"trees_data.csv\")\n",
    "trees.head()"
   ]
  },
  {
   "cell_type": "code",
   "execution_count": 21,
   "id": "aa55e400-afb8-4dcc-9a3d-7da7cf984a7b",
   "metadata": {},
   "outputs": [
    {
     "name": "stdout",
     "output_type": "stream",
     "text": [
      "There are 45709 trees in all of pittsburgh.\n"
     ]
    }
   ],
   "source": [
    "num_rows = len(trees)\n",
    "print(f'There are {num_rows} trees in all of pittsburgh.')"
   ]
  },
  {
   "cell_type": "code",
   "execution_count": 22,
   "id": "fd6d5bea-9497-412b-adfa-219f52227beb",
   "metadata": {},
   "outputs": [
    {
     "name": "stdout",
     "output_type": "stream",
     "text": [
      "neighborhood\n",
      "Squirrel Hill South          5073\n",
      "Highland Park                2941\n",
      "Squirrel Hill North          2083\n",
      "South Side Flats             1693\n",
      "Shadyside                    1558\n",
      "Bloomfield                   1436\n",
      "East Liberty                 1366\n",
      "Point Breeze                 1316\n",
      "Perry North                  1007\n",
      "Central Business District    1002\n",
      "Brighton Heights              910\n",
      "Mount Washington              874\n",
      "Allegheny Center              867\n",
      "Brookline                     853\n",
      "North Oakland                 775\n",
      "Carrick                       772\n",
      "Greenfield                    745\n",
      "Central Lawrenceville         713\n",
      "Manchester                    707\n",
      "Stanton Heights               700\n",
      "Central Northside             674\n",
      "Hazelwood                     652\n",
      "Garfield                      626\n",
      "Beechview                     611\n",
      "Crawford-Roberts              568\n",
      "Name: count, dtype: int64\n"
     ]
    }
   ],
   "source": [
    "trees_counts = trees['neighborhood'].value_counts().sort_values(ascending=False).head(25)\n",
    "print(trees_counts)"
   ]
  },
  {
   "cell_type": "code",
   "execution_count": 23,
   "id": "a278fa5c-91f4-4dc8-b7a1-ae4aba492baf",
   "metadata": {},
   "outputs": [
    {
     "data": {
      "text/plain": [
       "<Axes: xlabel='neighborhood'>"
      ]
     },
     "execution_count": 23,
     "metadata": {},
     "output_type": "execute_result"
    },
    {
     "data": {
      "image/png": "[encoded data removed]",
      "text/plain": [
       "<Figure size 640x480 with 1 Axes>"
      ]
     },
     "metadata": {},
     "output_type": "display_data"
    }
   ],
   "source": [
    "trees_counts.plot.bar()"
   ]
  },
  {
   "cell_type": "code",
   "execution_count": 24,
   "id": "7eb2d1fe-3124-461d-9918-443a30b8c278",
   "metadata": {},
   "outputs": [
    {
     "ename": "KeyError",
     "evalue": "neighborhood\nSquirrel Hill South          1.000000\nHighland Park                0.579736\nSquirrel Hill North          0.410605\nSouth Side Flats             0.333728\nShadyside                    0.307116\nBloomfield                   0.283067\nEast Liberty                 0.269269\nPoint Breeze                 0.259413\nPerry North                  0.198502\nCentral Business District    0.197516\nBrighton Heights             0.179381\nMount Washington             0.172285\nAllegheny Center             0.170905\nBrookline                    0.168145\nNorth Oakland                0.152770\nCarrick                      0.152178\nGreenfield                   0.146856\nCentral Lawrenceville        0.140548\nManchester                   0.139365\nStanton Heights              0.137985\nCentral Northside            0.132860\nHazelwood                    0.128524\nGarfield                     0.123398\nBeechview                    0.120442\nCrawford-Roberts             0.111965\nName: count, dtype: float64",
     "output_type": "error",
     "traceback": [
      "\u001b[0;31m---------------------------------------------------------------------------\u001b[0m",
      "\u001b[0;31mKeyError\u001b[0m                                  Traceback (most recent call last)",
      "\u001b[0;32m/scratch/slurm-13250/ipykernel_84037/3215696282.py\u001b[0m in \u001b[0;36m?\u001b[0;34m()\u001b[0m\n\u001b[1;32m      1\u001b[0m \u001b[0mTree_Score\u001b[0m \u001b[0;34m=\u001b[0m \u001b[0mtrees_counts\u001b[0m\u001b[0;34m/\u001b[0m\u001b[0mtrees_counts\u001b[0m\u001b[0;34m.\u001b[0m\u001b[0mmax\u001b[0m\u001b[0;34m(\u001b[0m\u001b[0;34m)\u001b[0m\u001b[0;34m\u001b[0m\u001b[0;34m\u001b[0m\u001b[0m\n\u001b[0;32m----> 2\u001b[0;31m \u001b[0mtop_tree_neighborhoods\u001b[0m \u001b[0;34m=\u001b[0m \u001b[0mtrees\u001b[0m\u001b[0;34m.\u001b[0m\u001b[0msort_values\u001b[0m\u001b[0;34m(\u001b[0m\u001b[0mby\u001b[0m\u001b[0;34m=\u001b[0m\u001b[0mTree_Score\u001b[0m\u001b[0;34m,\u001b[0m \u001b[0mascending\u001b[0m \u001b[0;34m=\u001b[0m \u001b[0;32mFalse\u001b[0m\u001b[0;34m)\u001b[0m\u001b[0;34m.\u001b[0m\u001b[0mhead\u001b[0m\u001b[0;34m(\u001b[0m\u001b[0;36m10\u001b[0m\u001b[0;34m)\u001b[0m\u001b[0;34m\u001b[0m\u001b[0;34m\u001b[0m\u001b[0m\n\u001b[0m\u001b[1;32m      3\u001b[0m \u001b[0mprint\u001b[0m\u001b[0;34m(\u001b[0m\u001b[0mtop_tree_neighborhoods\u001b[0m\u001b[0;34m)\u001b[0m\u001b[0;34m\u001b[0m\u001b[0;34m\u001b[0m\u001b[0m\n",
      "\u001b[0;32m/ihome/crc/install/jupyterhub/hub4.0.2/lib/python3.11/site-packages/pandas/core/frame.py\u001b[0m in \u001b[0;36m?\u001b[0;34m(self, by, axis, ascending, inplace, kind, na_position, ignore_index, key)\u001b[0m\n\u001b[1;32m   6940\u001b[0m             )\n\u001b[1;32m   6941\u001b[0m         \u001b[0;32melif\u001b[0m \u001b[0mlen\u001b[0m\u001b[0;34m(\u001b[0m\u001b[0mby\u001b[0m\u001b[0;34m)\u001b[0m\u001b[0;34m:\u001b[0m\u001b[0;34m\u001b[0m\u001b[0;34m\u001b[0m\u001b[0m\n\u001b[1;32m   6942\u001b[0m             \u001b[0;31m# len(by) == 1\u001b[0m\u001b[0;34m\u001b[0m\u001b[0;34m\u001b[0m\u001b[0m\n\u001b[1;32m   6943\u001b[0m \u001b[0;34m\u001b[0m\u001b[0m\n\u001b[0;32m-> 6944\u001b[0;31m             \u001b[0mk\u001b[0m \u001b[0;34m=\u001b[0m \u001b[0mself\u001b[0m\u001b[0;34m.\u001b[0m\u001b[0m_get_label_or_level_values\u001b[0m\u001b[0;34m(\u001b[0m\u001b[0mby\u001b[0m\u001b[0;34m[\u001b[0m\u001b[0;36m0\u001b[0m\u001b[0;34m]\u001b[0m\u001b[0;34m,\u001b[0m \u001b[0maxis\u001b[0m\u001b[0;34m=\u001b[0m\u001b[0maxis\u001b[0m\u001b[0;34m)\u001b[0m\u001b[0;34m\u001b[0m\u001b[0;34m\u001b[0m\u001b[0m\n\u001b[0m\u001b[1;32m   6945\u001b[0m \u001b[0;34m\u001b[0m\u001b[0m\n\u001b[1;32m   6946\u001b[0m             \u001b[0;31m# need to rewrap column in Series to apply key function\u001b[0m\u001b[0;34m\u001b[0m\u001b[0;34m\u001b[0m\u001b[0m\n\u001b[1;32m   6947\u001b[0m             \u001b[0;32mif\u001b[0m \u001b[0mkey\u001b[0m \u001b[0;32mis\u001b[0m \u001b[0;32mnot\u001b[0m \u001b[0;32mNone\u001b[0m\u001b[0;34m:\u001b[0m\u001b[0;34m\u001b[0m\u001b[0;34m\u001b[0m\u001b[0m\n",
      "\u001b[0;32m/ihome/crc/install/jupyterhub/hub4.0.2/lib/python3.11/site-packages/pandas/core/generic.py\u001b[0m in \u001b[0;36m?\u001b[0;34m(self, key, axis)\u001b[0m\n\u001b[1;32m   1840\u001b[0m             \u001b[0mvalues\u001b[0m \u001b[0;34m=\u001b[0m \u001b[0mself\u001b[0m\u001b[0;34m.\u001b[0m\u001b[0mxs\u001b[0m\u001b[0;34m(\u001b[0m\u001b[0mkey\u001b[0m\u001b[0;34m,\u001b[0m \u001b[0maxis\u001b[0m\u001b[0;34m=\u001b[0m\u001b[0mother_axes\u001b[0m\u001b[0;34m[\u001b[0m\u001b[0;36m0\u001b[0m\u001b[0;34m]\u001b[0m\u001b[0;34m)\u001b[0m\u001b[0;34m.\u001b[0m\u001b[0m_values\u001b[0m\u001b[0;34m\u001b[0m\u001b[0;34m\u001b[0m\u001b[0m\n\u001b[1;32m   1841\u001b[0m         \u001b[0;32melif\u001b[0m \u001b[0mself\u001b[0m\u001b[0;34m.\u001b[0m\u001b[0m_is_level_reference\u001b[0m\u001b[0;34m(\u001b[0m\u001b[0mkey\u001b[0m\u001b[0;34m,\u001b[0m \u001b[0maxis\u001b[0m\u001b[0;34m=\u001b[0m\u001b[0maxis\u001b[0m\u001b[0;34m)\u001b[0m\u001b[0;34m:\u001b[0m\u001b[0;34m\u001b[0m\u001b[0;34m\u001b[0m\u001b[0m\n\u001b[1;32m   1842\u001b[0m             \u001b[0mvalues\u001b[0m \u001b[0;34m=\u001b[0m \u001b[0mself\u001b[0m\u001b[0;34m.\u001b[0m\u001b[0maxes\u001b[0m\u001b[0;34m[\u001b[0m\u001b[0maxis\u001b[0m\u001b[0;34m]\u001b[0m\u001b[0;34m.\u001b[0m\u001b[0mget_level_values\u001b[0m\u001b[0;34m(\u001b[0m\u001b[0mkey\u001b[0m\u001b[0;34m)\u001b[0m\u001b[0;34m.\u001b[0m\u001b[0m_values\u001b[0m\u001b[0;34m\u001b[0m\u001b[0;34m\u001b[0m\u001b[0m\n\u001b[1;32m   1843\u001b[0m         \u001b[0;32melse\u001b[0m\u001b[0;34m:\u001b[0m\u001b[0;34m\u001b[0m\u001b[0;34m\u001b[0m\u001b[0m\n\u001b[0;32m-> 1844\u001b[0;31m             \u001b[0;32mraise\u001b[0m \u001b[0mKeyError\u001b[0m\u001b[0;34m(\u001b[0m\u001b[0mkey\u001b[0m\u001b[0;34m)\u001b[0m\u001b[0;34m\u001b[0m\u001b[0;34m\u001b[0m\u001b[0m\n\u001b[0m\u001b[1;32m   1845\u001b[0m \u001b[0;34m\u001b[0m\u001b[0m\n\u001b[1;32m   1846\u001b[0m         \u001b[0;31m# Check for duplicates\u001b[0m\u001b[0;34m\u001b[0m\u001b[0;34m\u001b[0m\u001b[0m\n\u001b[1;32m   1847\u001b[0m         \u001b[0;32mif\u001b[0m \u001b[0mvalues\u001b[0m\u001b[0;34m.\u001b[0m\u001b[0mndim\u001b[0m \u001b[0;34m>\u001b[0m \u001b[0;36m1\u001b[0m\u001b[0;34m:\u001b[0m\u001b[0;34m\u001b[0m\u001b[0;34m\u001b[0m\u001b[0m\n",
      "\u001b[0;31mKeyError\u001b[0m: neighborhood\nSquirrel Hill South          1.000000\nHighland Park                0.579736\nSquirrel Hill North          0.410605\nSouth Side Flats             0.333728\nShadyside                    0.307116\nBloomfield                   0.283067\nEast Liberty                 0.269269\nPoint Breeze                 0.259413\nPerry North                  0.198502\nCentral Business District    0.197516\nBrighton Heights             0.179381\nMount Washington             0.172285\nAllegheny Center             0.170905\nBrookline                    0.168145\nNorth Oakland                0.152770\nCarrick                      0.152178\nGreenfield                   0.146856\nCentral Lawrenceville        0.140548\nManchester                   0.139365\nStanton Heights              0.137985\nCentral Northside            0.132860\nHazelwood                    0.128524\nGarfield                     0.123398\nBeechview                    0.120442\nCrawford-Roberts             0.111965\nName: count, dtype: float64"
     ]
    }
   ],
   "source": [
    "Tree_Score = trees_counts/trees_counts.max()\n",
    "top_tree_neighborhoods = trees.sort_values(by=Tree_Score, ascending = False).head(10)\n",
    "print(top_tree_neighborhoods)"
   ]
  },
  {
   "cell_type": "markdown",
   "id": "58adf64a-f0d9-4597-8e4b-05f1356be1e7",
   "metadata": {},
   "source": [
    "## Conclusion"
   ]
  },
  {
   "cell_type": "markdown",
   "id": "06768c97-45fe-4248-ba5d-d7b16edb29be",
   "metadata": {},
   "source": [
    "Normalized Data for Safety "
   ]
  },
  {
   "cell_type": "code",
   "execution_count": 28,
   "id": "0f857139-e825-4b24-b605-fdb0731eb6a3",
   "metadata": {},
   "outputs": [
    {
     "name": "stdout",
     "output_type": "stream",
     "text": [
      "      Neighborhood  Arrest_Score  Gun_Score  Final_Safety_Score\n",
      "2   Swisshelm Park      0.990315   0.998720            0.994517\n",
      "1    Regent Square      0.991667   0.994878            0.993273\n",
      "3   Chartiers City      0.989640   0.994878            0.992259\n",
      "4        St. Clair      0.987613   0.994878            0.991245\n",
      "5      Summer Hill      0.982883   0.997439            0.990161\n",
      "6          Oakwood      0.981532   0.994878            0.988205\n",
      "7             Hays      0.972973   0.991037            0.982005\n",
      "9        Fairywood      0.971396   0.991037            0.981217\n",
      "8          Windgap      0.972072   0.985915            0.978994\n",
      "14      Friendship      0.960811   0.996159            0.978485\n"
     ]
    }
   ],
   "source": [
    "combined = pd.merge(nbrs[['Neighborhood', 'Arrest_Score']], \n",
    "                    gn[['Neighborhood', 'Gun_Score']], \n",
    "                    on='Neighborhood')\n",
    "combined['Final_Safety_Score'] = (combined['Arrest_Score']+ combined['Gun_Score'])/2\n",
    "top_10_final_safest = combined.sort_values(by='Final_Safety_Score', ascending=False).head(10)\n",
    "\n",
    "\n",
    "print(top_10_final_safest)"
   ]
  },
  {
   "cell_type": "markdown",
   "id": "7ffa0ad2-3c2c-40fd-b478-26250266fd4e",
   "metadata": {},
   "source": [
    "## Of the top two, which has more trees?"
   ]
  },
  {
   "cell_type": "code",
   "execution_count": 33,
   "id": "37c62f3b-8863-47a6-8755-fce6be552dab",
   "metadata": {},
   "outputs": [
    {
     "name": "stdout",
     "output_type": "stream",
     "text": [
      "There are 245 trees in Swisshelm Park.\n"
     ]
    }
   ],
   "source": [
    "neighborhood_name = 'Swisshelm Park'\n",
    "\n",
    "\n",
    "count = (trees['neighborhood'] == neighborhood_name).sum()\n",
    "\n",
    "print(f\"There are {count} trees in {neighborhood_name}.\")"
   ]
  },
  {
   "cell_type": "code",
   "execution_count": 34,
   "id": "76e7ee2c-1766-45ea-b658-1c25c60d45c2",
   "metadata": {},
   "outputs": [
    {
     "name": "stdout",
     "output_type": "stream",
     "text": [
      "There are 434 trees in Regent Square.\n"
     ]
    }
   ],
   "source": [
    "neighborhood_name = 'Regent Square'\n",
    "\n",
    "\n",
    "count = (trees['neighborhood'] == neighborhood_name).sum()\n",
    "\n",
    "print(f\"There are {count} trees in {neighborhood_name}.\")"
   ]
  },
  {
   "cell_type": "markdown",
   "id": "899aeac3-1fd0-4a67-b60e-98ddc85e0f55",
   "metadata": {},
   "source": [
    "# Regent Square is the best neighborhood"
   ]
  }
 ],
 "metadata": {
  "kernelspec": {
   "display_name": "Python 3 (ipykernel)",
   "language": "python",
   "name": "python3"
  },
  "language_info": {
   "codemirror_mode": {
    "name": "ipython",
    "version": 3
   },
   "file_extension": ".py",
   "mimetype": "text/x-python",
   "name": "python",
   "nbconvert_exporter": "python",
   "pygments_lexer": "ipython3",
   "version": "3.11.5"
  }
 },
 "nbformat": 4,
 "nbformat_minor": 5
}
